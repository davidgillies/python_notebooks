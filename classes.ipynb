{
 "metadata": {
  "name": "",
  "signature": "sha256:b5999e76b3e202cee73b23322844c84e5fbb067bf386c1ea2d587e086f17153d"
 },
 "nbformat": 3,
 "nbformat_minor": 0,
 "worksheets": [
  {
   "cells": [
    {
     "cell_type": "markdown",
     "metadata": {},
     "source": [
      "# Objects and Classes\n",
      "\n",
      "Object oriented programming is just a way or organising code.  Like everything it needs a little practise to get used to.  Everything you use in python is an object with the exception os the reserved keywords like if, import, etc.  So\n"
     ]
    },
    {
     "cell_type": "code",
     "collapsed": false,
     "input": [
      "x = 5 # we've created a integer...  So what is it?\n",
      "type(x) # it's an int object, we've seen this before."
     ],
     "language": "python",
     "metadata": {},
     "outputs": [
      {
       "metadata": {},
       "output_type": "pyout",
       "prompt_number": 1,
       "text": [
        "int"
       ]
      }
     ],
     "prompt_number": 1
    },
    {
     "cell_type": "markdown",
     "metadata": {},
     "source": [
      "We've also used methods that the int object has, +, -, etc.  What happens when you use + etc. is just that the int object uses a special method called `__add__`"
     ]
    },
    {
     "cell_type": "code",
     "collapsed": false,
     "input": [
      "x.__add__(2) # should give 7, equivalent of x + 2"
     ],
     "language": "python",
     "metadata": {},
     "outputs": [
      {
       "metadata": {},
       "output_type": "pyout",
       "prompt_number": 4,
       "text": [
        "7"
       ]
      }
     ],
     "prompt_number": 4
    },
    {
     "cell_type": "markdown",
     "metadata": {},
     "source": [
      "Strings also have an `__add__` method"
     ]
    },
    {
     "cell_type": "code",
     "collapsed": false,
     "input": [
      "    y = 'hello'\n",
      "    y.__add__(' world') # runs a method"
     ],
     "language": "python",
     "metadata": {},
     "outputs": [
      {
       "metadata": {},
       "output_type": "pyout",
       "prompt_number": 5,
       "text": [
        "'hello world'"
       ]
      }
     ],
     "prompt_number": 5
    },
    {
     "cell_type": "markdown",
     "metadata": {},
     "source": [
      "So everything is an object in python.  Objects have functions which when they are attached to an object it is said to be its method so we can easily differentiate between a standalone function and the method belonging to some object. \n",
      "\n",
      "As well as methods object can also have attribtues which we have already in the docstring"
     ]
    },
    {
     "cell_type": "code",
     "collapsed": false,
     "input": [
      "x.__doc__ # docstring attribute for int"
     ],
     "language": "python",
     "metadata": {},
     "outputs": [
      {
       "metadata": {},
       "output_type": "pyout",
       "prompt_number": 6,
       "text": [
        "\"int(x=0) -> int or long\\nint(x, base=10) -> int or long\\n\\nConvert a number or string to an integer, or return 0 if no arguments\\nare given.  If x is floating point, the conversion truncates towards zero.\\nIf x is outside the integer range, the function returns a long instead.\\n\\nIf x is not a number or if base is given, then x must be a string or\\nUnicode object representing an integer literal in the given base.  The\\nliteral can be preceded by '+' or '-' and be surrounded by whitespace.\\nThe base defaults to 10.  Valid bases are 0 and 2-36.  Base 0 means to\\ninterpret the base from the string as an integer literal.\\n>>> int('0b100', base=0)\\n4\""
       ]
      }
     ],
     "prompt_number": 6
    },
    {
     "cell_type": "markdown",
     "metadata": {},
     "source": [
      "String, integer, list etc. are obviously built in things that we have used.  Each thing is described by a class definition which defines its methods and attributes.  \n",
      "\n",
      "Object orientation is usually demoed using some abstract definition of a solid object so"
     ]
    },
    {
     "cell_type": "code",
     "collapsed": false,
     "input": [
      "    class Ship: # class definition names are in CamelCase\n",
      "        pass # a special keyword that does nothing!"
     ],
     "language": "python",
     "metadata": {},
     "outputs": [],
     "prompt_number": 7
    },
    {
     "cell_type": "code",
     "collapsed": false,
     "input": [
      "    myship = Ship() # I've created an instance of Ship...  er... hoorah?\n",
      "    type(Ship) # a class object\n"
     ],
     "language": "python",
     "metadata": {},
     "outputs": [
      {
       "metadata": {},
       "output_type": "pyout",
       "prompt_number": 9,
       "text": [
        "classobj"
       ]
      }
     ],
     "prompt_number": 9
    },
    {
     "cell_type": "code",
     "collapsed": false,
     "input": [
      "    type(myship) # an instance"
     ],
     "language": "python",
     "metadata": {},
     "outputs": [
      {
       "metadata": {},
       "output_type": "pyout",
       "prompt_number": 10,
       "text": [
        "instance"
       ]
      }
     ],
     "prompt_number": 10
    },
    {
     "cell_type": "markdown",
     "metadata": {},
     "source": [
      "Not a great deal of use so far, lets go further.  Now, I'm giving my ship class some properties and methods.  I want to know if a ship is still active in this case, so I have an attribute active which is set to True by default and 2 methods to either activate or deactivate a ship instance."
     ]
    },
    {
     "cell_type": "code",
     "collapsed": false,
     "input": [
      "    class Ship:\n",
      "        ships = []\n",
      "        def __init__(self): # special initializer function.\n",
      "            self.name = ''\n",
      "            self.launched = ''\n",
      "            self.active = True\n",
      "            Ship.ships.append(self)\n",
      "\n",
      "        def activate(self): # a method to change active\n",
      "            self.active = True\n",
      "\n",
      "        def deactivate(self): # a method to change active\n",
      "            self.active = False\n",
      "\n",
      "\n",
      "\n",
      "\n"
     ],
     "language": "python",
     "metadata": {},
     "outputs": [],
     "prompt_number": 13
    },
    {
     "cell_type": "markdown",
     "metadata": {},
     "source": [
      "Lets use our class"
     ]
    },
    {
     "cell_type": "code",
     "collapsed": false,
     "input": [
      "\n",
      "titanic = Ship()\n",
      "titanic.name = 'Titanic'\n",
      "titanic.launched = '1912'\n",
      "titanic.deactivate() # \n",
      "\n",
      "queen_mary_2 = Ship()\n",
      "queen_mary_2.name = 'Queen Mary 2'\n",
      "queen_mary_2.launched = '2003'\n",
      "\n",
      "for ship in Ship.ships:\n",
      "    if ship.active:\n",
      "        print \"%s is active\" % ship.name\n",
      "    else:\n",
      "        print \"%s is not active\" % ship.name"
     ],
     "language": "python",
     "metadata": {},
     "outputs": [
      {
       "output_type": "stream",
       "stream": "stdout",
       "text": [
        "Titanic is not active\n",
        "Queen Mary 2 is active\n"
       ]
      }
     ],
     "prompt_number": 15
    },
    {
     "cell_type": "markdown",
     "metadata": {},
     "source": [
      "What just happened?  What is self?  \n",
      "\n",
      "Classes can have attributes that are class attributes where you may set constants etc. or as above, the ships variable contains a list of all instances of the Ship class so I can just check the `Ships.ships` to find all instances of ship that have been created.  A class is essentially a description of an object but it is also an object in its own right.   \n",
      "\n",
      "To let an instance of ship, say my titanic, above know it has to operate on itself i.e. its instance as opposed the the class that describes it, it takes a first argument called **self** for all its methods that are to be instance methods, things which are personal to the ship and not constant across a class of ships.  The notation `titanic.deactivate()` is effectively passing titanic itself as the first argument to its own deactivate method...  Similarly when we played with integers above we used `x.__add__(2)`, this method in the int class might look like `def __add__(self, number)`, i.e. it takes itself as the first number in the addition.  This then allows us to use the self variable to reference the instance in its own internal code.  Whenever we use self we are using the instance of the class, the class itself referred to by its name.\n",
      "\n",
      "Take the function:"
     ]
    },
    {
     "cell_type": "code",
     "collapsed": false,
     "input": [
      "        def activate(self): # a method to change active\n",
      "            self.active = True\n"
     ],
     "language": "python",
     "metadata": {},
     "outputs": [],
     "prompt_number": 16
    },
    {
     "cell_type": "markdown",
     "metadata": {},
     "source": [
      "The function and class need to know what it has to do, what is has to change in this case, so we have to pass something to it to let it know.  \n",
      "\n",
      "This is probably the most complicated part of using object oriented programming to begin with.  So given it's such a pain, where is the gain?"
     ]
    },
    {
     "cell_type": "markdown",
     "metadata": {},
     "source": [
      "##Inheritance\n",
      "\n",
      "\n",
      "###Mixins\n"
     ]
    }
   ],
   "metadata": {}
  }
 ]
}