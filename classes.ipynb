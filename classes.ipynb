{
 "metadata": {
  "name": "",
  "signature": "sha256:eb8bd773e8b86deb4359f0d0a442f67121ce1e5b7261c4651db48eeae27fe25e"
 },
 "nbformat": 3,
 "nbformat_minor": 0,
 "worksheets": [
  {
   "cells": [
    {
     "cell_type": "code",
     "collapsed": false,
     "input": [
      "    class Ship:\n",
      "        ships = []\n",
      "        def __init__(self): # special initializer function.\n",
      "            self.name = ''\n",
      "            self.launched = ''\n",
      "            self.active = True\n",
      "            Ship.ships.append(self)\n",
      "\n",
      "        def activate(self): # a method to change active\n",
      "            self.active = True\n",
      "\n",
      "        def deactivate(self): # a method to change active\n",
      "            self.active = False\n",
      "\n",
      "\n",
      "\n",
      "    titanic = Ship()\n",
      "    titanic.name = 'Titanic'\n",
      "    titanic.launched = '1912'\n",
      "    titanic.deactivate() # \n",
      "\n",
      "    queen_mary_2 = Ship()\n",
      "    queen_mary_2.name = 'Queen Mary 2'\n",
      "    queen_mary_2.launched = '2003'\n",
      "\n",
      "    for ship in Ship.ships:\n",
      "        if ship.active:\n",
      "            print \"%s is active\" % ship.name\n",
      "        else:\n",
      "            print \"%s is not active\" % ship.name"
     ],
     "language": "python",
     "metadata": {},
     "outputs": [
      {
       "output_type": "stream",
       "stream": "stdout",
       "text": [
        "Titanic is not active\n",
        "Queen Mary 2 is active\n"
       ]
      }
     ],
     "prompt_number": 43
    },
    {
     "cell_type": "code",
     "collapsed": false,
     "input": [
      "    titanic = Ship()\n",
      "    titanic.name = 'Titanic'\n",
      "    titanic.launched = '1912'\n",
      "    titanic.deactivate() # \n",
      "\n",
      "    queen_mary_2 = Ship()\n",
      "    queen_mary_2.name = 'Queen Mary 2'\n",
      "    queen_mary_2.launched = '2003'\n",
      "\n",
      "    ships = [titanic, queen_mary_2]"
     ],
     "language": "python",
     "metadata": {},
     "outputs": [],
     "prompt_number": 38
    },
    {
     "cell_type": "code",
     "collapsed": false,
     "input": [
      "    for ship in ships:\n",
      "        if ship.active:\n",
      "            print \"%s is active\" % ship.name\n",
      "        else:\n",
      "            print \"%s is not active\" % ship.name\n"
     ],
     "language": "python",
     "metadata": {},
     "outputs": [
      {
       "output_type": "stream",
       "stream": "stdout",
       "text": [
        "Titanic is not active\n",
        "Queen Mary 2 is active\n"
       ]
      }
     ],
     "prompt_number": 44
    },
    {
     "cell_type": "code",
     "collapsed": false,
     "input": [
      "Ship.ships\n"
     ],
     "language": "python",
     "metadata": {},
     "outputs": [
      {
       "metadata": {},
       "output_type": "pyout",
       "prompt_number": 45,
       "text": [
        "[<__main__.Ship instance at 0x0000000004456188>,\n",
        " <__main__.Ship instance at 0x00000000044561C8>]"
       ]
      }
     ],
     "prompt_number": 45
    },
    {
     "cell_type": "code",
     "collapsed": false,
     "input": [
      "Ship"
     ],
     "language": "python",
     "metadata": {},
     "outputs": [
      {
       "metadata": {},
       "output_type": "pyout",
       "prompt_number": 33,
       "text": [
        "__main__.Ship"
       ]
      }
     ],
     "prompt_number": 33
    },
    {
     "cell_type": "code",
     "collapsed": false,
     "input": [
      "titanic.ships"
     ],
     "language": "python",
     "metadata": {},
     "outputs": [
      {
       "metadata": {},
       "output_type": "pyout",
       "prompt_number": 41,
       "text": [
        "[<__main__.Ship instance at 0x0000000004453E88>,\n",
        " <__main__.Ship instance at 0x0000000004453F08>]"
       ]
      }
     ],
     "prompt_number": 41
    },
    {
     "cell_type": "code",
     "collapsed": false,
     "input": [],
     "language": "python",
     "metadata": {},
     "outputs": []
    }
   ],
   "metadata": {}
  }
 ]
}