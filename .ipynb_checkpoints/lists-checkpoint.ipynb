{
 "metadata": {
  "name": "",
  "signature": "sha256:2741dabaa6f1f78ac5179c236a3fe5b96958d7600d3fada6706f59a7cadfe7a4"
 },
 "nbformat": 3,
 "nbformat_minor": 0,
 "worksheets": []
}