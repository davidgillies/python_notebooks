{
 "metadata": {
  "name": "",
  "signature": "sha256:d9f43c345302557103c8aa5e4420d3bba8f737e63923cb70648158e0a038cc83"
 },
 "nbformat": 3,
 "nbformat_minor": 0,
 "worksheets": [
  {
   "cells": [
    {
     "cell_type": "markdown",
     "metadata": {},
     "source": [
      "# Modules and Packages\n",
      "Modules are simply python files, which are basically code saved in a file with a .py extension.  \n",
      "\n",
      "Lets make a file then, open your fave IDE (your editor!).  Type in the following"
     ]
    },
    {
     "cell_type": "markdown",
     "metadata": {},
     "source": [
      "    def is_prime(number): # function to tell if a number is prime\n",
      "        if number < 2: \n",
      "            return False\n",
      "        else:\n",
      "            for a in range(2, number): # remember indexing, range creates a list from 2 to number -1, [2,..,number-1]\n",
      "                if number % a == 0: # if any number divides our number without remainder it's not prime.\n",
      "                    return False\n",
      "        return True # it's got this far, so must be true."
     ]
    },
    {
     "cell_type": "markdown",
     "metadata": {},
     "source": [
      "Save the file as mystuff.py to some location.  If you want to use your ipython notebooks, save the file to the same location as your notebooks.  If you are going to use ipython command prompt you should start the propmt from the same location as the file.  This is because Python looks for modules on certain paths including your current location.  For ipython notebooks, they will import from anywhere on the python path including the place you've set up to save your notebooks."
     ]
    },
    {
     "cell_type": "markdown",
     "metadata": {},
     "source": [
      "If you can't be bothered...  I've already added the file to the git repo, so if you downloaded that, you'll can import it from your notebooks.\n",
      "\n",
      "Whichever choice you have made!  Either create a notebook, open an ipython prompt or use the notebook from the repo and do this..."
     ]
    },
    {
     "cell_type": "code",
     "collapsed": false,
     "input": [
      "    import mystuff # imports and executes the module, note no .py at the end.\n",
      "    mystuff.is_prime(5) # call a function from the module..."
     ],
     "language": "python",
     "metadata": {},
     "outputs": [
      {
       "metadata": {},
       "output_type": "pyout",
       "prompt_number": 1,
       "text": [
        "True"
       ]
      }
     ],
     "prompt_number": 1
    },
    {
     "cell_type": "markdown",
     "metadata": {},
     "source": [
      "Lets add another function to our file\n",
      "\n",
      "    def do_something():\n",
      "        print \"Doing something...\"\n",
      "        print \".\" * 30\n",
      "        print \"Still doing it\"\n",
      "        print \".\" * 30\n",
      "        print \"done\"\n",
      "        return \"Need a break now\"\n",
      "\n",
      "    do_something() # run the function...\n",
      "\n",
      "Ok, save that and back to the prompt or notebook and..."
     ]
    },
    {
     "cell_type": "code",
     "collapsed": false,
     "input": [
      "    mystuff.do_something() # see docs/modules for info on reloading modules"
     ],
     "language": "python",
     "metadata": {},
     "outputs": [
      {
       "output_type": "stream",
       "stream": "stdout",
       "text": [
        "Doing something...\n",
        "..............................\n",
        "Still doing it\n",
        "..............................\n",
        "done\n"
       ]
      },
      {
       "metadata": {},
       "output_type": "pyout",
       "prompt_number": 2,
       "text": [
        "'Need a break now'"
       ]
      }
     ],
     "prompt_number": 2
    },
    {
     "cell_type": "markdown",
     "metadata": {},
     "source": [
      "###Importing Stuff\n",
      "\n",
      "Create another file called new_stuff.py in the same location as your first.  \n",
      "\n",
      "    import mystuff # import our first file\n",
      "\n",
      "    def number_info(number):\n",
      "        \"\"\"Assumes an integer and returns some info\"\"\"\n",
      "        info = []\n",
      "        if number % 2 == 0: # test it's even\n",
      "            info.append('even')\n",
      "        else:\n",
      "            info.append('odd')\n",
      "        if mystuff.is_prime(number): # use the other module function\n",
      "            info.append('prime')\n",
      "        else:\n",
      "            info.append('not prime')\n",
      "        return \"number is %s and %s\" % (info)"
     ]
    },
    {
     "cell_type": "code",
     "collapsed": false,
     "input": [
      "    import new_stuff # note the do_something printouts as we imported mystuff it is executed.\n",
      "    new_stuff.number_info(5) \n"
     ],
     "language": "python",
     "metadata": {},
     "outputs": [
      {
       "metadata": {},
       "output_type": "pyout",
       "prompt_number": 4,
       "text": [
        "'number is odd and prime'"
       ]
      }
     ],
     "prompt_number": 4
    },
    {
     "cell_type": "code",
     "collapsed": false,
     "input": [
      "    new_stuff.number_info(10)"
     ],
     "language": "python",
     "metadata": {},
     "outputs": [
      {
       "metadata": {},
       "output_type": "pyout",
       "prompt_number": 5,
       "text": [
        "'number is even and not prime'"
       ]
      }
     ],
     "prompt_number": 5
    },
    {
     "cell_type": "markdown",
     "metadata": {},
     "source": [
      "### Namespaces\n",
      "When working in a module, your module has its own namespace.  All the variables and functions you create exist within that namespace.  When you import another module you bring it into your namespace and to access functions in its namespace you prepend the function call with the module name as we have seen `mystuff.do_something()`\n",
      "\n",
      "You can however import things directly into your modules namespace"
     ]
    },
    {
     "cell_type": "code",
     "collapsed": false,
     "input": [
      "    from mystuff import do_something\n",
      "    do_something() # I can now use the function without prepending the module name.\n"
     ],
     "language": "python",
     "metadata": {},
     "outputs": [
      {
       "output_type": "stream",
       "stream": "stdout",
       "text": [
        "Doing something...\n",
        "..............................\n",
        "Still doing it\n",
        "..............................\n",
        "done\n"
       ]
      },
      {
       "metadata": {},
       "output_type": "pyout",
       "prompt_number": 6,
       "text": [
        "'Need a break now'"
       ]
      }
     ],
     "prompt_number": 6
    },
    {
     "cell_type": "code",
     "collapsed": false,
     "input": [
      "    from mystuff import *\n",
      "    is_prime(23) "
     ],
     "language": "python",
     "metadata": {},
     "outputs": [
      {
       "metadata": {},
       "output_type": "pyout",
       "prompt_number": 7,
       "text": [
        "True"
       ]
      }
     ],
     "prompt_number": 7
    },
    {
     "cell_type": "markdown",
     "metadata": {},
     "source": [
      "This is not a good idea as it can cause conflicts.\n",
      "\n",
      "You can also rename module namespaces when importing, so I say I had two modules with the same names I wanted to import.  This can happen when you are working across applications which share the same structure and file names."
     ]
    },
    {
     "cell_type": "markdown",
     "metadata": {},
     "source": [
      "###Packages\n",
      "A Package in python is a folder that contains a special file, \\_\\_init\\_\\_.py  This file can be and often is empty or it can be used to initialise code for the module when imported.  Any files inside the package can be imported.  Lets try it out.\n",
      "\n",
      "Create a folder called mypackage where your notebooks are or in the location you run the ipython prompt.  In the folder create a file called __init__.py and another called my mymodule.py"
     ]
    },
    {
     "cell_type": "markdown",
     "metadata": {},
     "source": [
      "Create a folder called mypackage where your notebooks are or in the location you run the ipython prompt.  In the folder create a file called __init__.py and another called my mymodule.py\n",
      "\n",
      "    # __init__.py\n",
      "    print \"This is great, init!\" # sorry\n",
      "\n",
      "    # mymodule.py \n",
      "    print 'this is in mymodule' \n",
      "\n",
      "Save and return to the notebook or prompt and "
     ]
    },
    {
     "cell_type": "code",
     "collapsed": false,
     "input": [
      "import mypackage"
     ],
     "language": "python",
     "metadata": {},
     "outputs": [
      {
       "output_type": "stream",
       "stream": "stdout",
       "text": [
        "This is great, init!\n"
       ]
      }
     ],
     "prompt_number": 12
    },
    {
     "cell_type": "code",
     "collapsed": false,
     "input": [
      "from mypackage import mymodule"
     ],
     "language": "python",
     "metadata": {},
     "outputs": [
      {
       "output_type": "stream",
       "stream": "stdout",
       "text": [
        "this is in mymodule\n"
       ]
      }
     ],
     "prompt_number": 13
    },
    {
     "cell_type": "markdown",
     "metadata": {},
     "source": [
      "We will look at some of the modules and packages available for use later. "
     ]
    },
    {
     "cell_type": "code",
     "collapsed": false,
     "input": [],
     "language": "python",
     "metadata": {},
     "outputs": []
    }
   ],
   "metadata": {}
  }
 ]
}
