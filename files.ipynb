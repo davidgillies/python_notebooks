{
 "metadata": {
  "name": "",
  "signature": "sha256:bbb0bb4b999b210d5cb54b889c84c4100d268fca225e949f7ddfde586842b98f"
 },
 "nbformat": 3,
 "nbformat_minor": 0,
 "worksheets": [
  {
   "cells": [
    {
     "cell_type": "markdown",
     "metadata": {},
     "source": [
      "#Working with Files\n",
      "\n",
      "Files are easy to use in Python."
     ]
    },
    {
     "cell_type": "code",
     "collapsed": false,
     "input": [
      "f = open('some.log') # opens file returns file object\n",
      "text = f.read() # puts all the text into a variable\n",
      "text"
     ],
     "language": "python",
     "metadata": {},
     "outputs": [
      {
       "metadata": {},
       "output_type": "pyout",
       "prompt_number": 6,
       "text": [
        "\"[Tue Jan 27 14:42:08.107986 2015] [ssl:warn] [pid 8996:tid 296] AH01873: Init: Session Cache is not configured [hint: SSLSessionCache]\\n[Tue Jan 27 14:42:08.109990 2015] [mpm_winnt:notice] [pid 8996:tid 296] AH00455: Apache/2.4.10 (Win64) OpenSSL/1.0.1j configured -- resuming normal operations\\n[Tue Jan 27 14:42:08.110993 2015] [mpm_winnt:notice] [pid 8996:tid 296] AH00456: Server built: Dec  2 2014 08:38:58\\n[Tue Jan 27 14:42:08.110993 2015] [mpm_winnt:notice] [pid 8996:tid 296] AH80000: Distributed by: The Apache Haus\\n[Tue Jan 27 14:42:08.111995 2015] [mpm_winnt:notice] [pid 8996:tid 296] AH80001: Compiled with: Visual Studio 2008\\n[Tue Jan 27 14:42:08.111995 2015] [core:notice] [pid 8996:tid 296] AH00094: Command line: 'httpd -d U:/Data/httpd-2.4.10-x64-r2/Apache24'\\n[Tue Jan 27 14:42:08.130038 2015] [mpm_winnt:notice] [pid 8996:tid 296] AH00418: Parent: Created child process 5636\""
       ]
      }
     ],
     "prompt_number": 6
    },
    {
     "cell_type": "code",
     "collapsed": false,
     "input": [
      "f = open('some.log') # opens file returns file object\n",
      "lines = f.readlines() # reads lines into a list\n",
      "lines"
     ],
     "language": "python",
     "metadata": {},
     "outputs": [
      {
       "metadata": {},
       "output_type": "pyout",
       "prompt_number": 5,
       "text": [
        "['[Tue Jan 27 14:42:08.107986 2015] [ssl:warn] [pid 8996:tid 296] AH01873: Init: Session Cache is not configured [hint: SSLSessionCache]\\n',\n",
        " '[Tue Jan 27 14:42:08.109990 2015] [mpm_winnt:notice] [pid 8996:tid 296] AH00455: Apache/2.4.10 (Win64) OpenSSL/1.0.1j configured -- resuming normal operations\\n',\n",
        " '[Tue Jan 27 14:42:08.110993 2015] [mpm_winnt:notice] [pid 8996:tid 296] AH00456: Server built: Dec  2 2014 08:38:58\\n',\n",
        " '[Tue Jan 27 14:42:08.110993 2015] [mpm_winnt:notice] [pid 8996:tid 296] AH80000: Distributed by: The Apache Haus\\n',\n",
        " '[Tue Jan 27 14:42:08.111995 2015] [mpm_winnt:notice] [pid 8996:tid 296] AH80001: Compiled with: Visual Studio 2008\\n',\n",
        " \"[Tue Jan 27 14:42:08.111995 2015] [core:notice] [pid 8996:tid 296] AH00094: Command line: 'httpd -d U:/Data/httpd-2.4.10-x64-r2/Apache24'\\n\",\n",
        " '[Tue Jan 27 14:42:08.130038 2015] [mpm_winnt:notice] [pid 8996:tid 296] AH00418: Parent: Created child process 5636']"
       ]
      }
     ],
     "prompt_number": 5
    },
    {
     "cell_type": "code",
     "collapsed": false,
     "input": [
      "for line in lines: # work with the list\n",
      "    if 'Apache' in line:\n",
      "        print line"
     ],
     "language": "python",
     "metadata": {},
     "outputs": [
      {
       "output_type": "stream",
       "stream": "stdout",
       "text": [
        "[Tue Jan 27 14:42:08.109990 2015] [mpm_winnt:notice] [pid 8996:tid 296] AH00455: Apache/2.4.10 (Win64) OpenSSL/1.0.1j configured -- resuming normal operations\n",
        "\n",
        "[Tue Jan 27 14:42:08.110993 2015] [mpm_winnt:notice] [pid 8996:tid 296] AH80000: Distributed by: The Apache Haus\n",
        "\n",
        "[Tue Jan 27 14:42:08.111995 2015] [core:notice] [pid 8996:tid 296] AH00094: Command line: 'httpd -d U:/Data/httpd-2.4.10-x64-r2/Apache24'\n",
        "\n"
       ]
      }
     ],
     "prompt_number": 7
    },
    {
     "cell_type": "markdown",
     "metadata": {},
     "source": [
      "Opening in the write mode with 'w' means any time you use the write() method you will overwrite the any existing content in the file. "
     ]
    },
    {
     "cell_type": "code",
     "collapsed": false,
     "input": [
      "    f = open('stuff.txt')\n",
      "    f.read()\n"
     ],
     "language": "python",
     "metadata": {},
     "outputs": [
      {
       "metadata": {},
       "output_type": "pyout",
       "prompt_number": 49,
       "text": [
        "'All gone!\\nAdd this!'"
       ]
      }
     ],
     "prompt_number": 49
    },
    {
     "cell_type": "code",
     "collapsed": false,
     "input": [
      "f.close()"
     ],
     "language": "python",
     "metadata": {},
     "outputs": [],
     "prompt_number": 11
    },
    {
     "cell_type": "code",
     "collapsed": false,
     "input": [
      "    f = open('stuff.txt', 'w') # will overwrite everything\n",
      "    f.write('All gone!')\n",
      "    f.close()"
     ],
     "language": "python",
     "metadata": {},
     "outputs": [],
     "prompt_number": 50
    },
    {
     "cell_type": "code",
     "collapsed": false,
     "input": [
      "print open('stuff.txt').read()"
     ],
     "language": "python",
     "metadata": {},
     "outputs": [
      {
       "output_type": "stream",
       "stream": "stdout",
       "text": [
        "All gone!\n"
       ]
      }
     ],
     "prompt_number": 51
    },
    {
     "cell_type": "code",
     "collapsed": false,
     "input": [
      "f =  open('stuff.txt', 'a') # will append to the file\n",
      "f.write(\"\\nAdd this!\")\n",
      "f.close()"
     ],
     "language": "python",
     "metadata": {},
     "outputs": [],
     "prompt_number": 52
    },
    {
     "cell_type": "code",
     "collapsed": false,
     "input": [
      "print open('stuff.txt').read()"
     ],
     "language": "python",
     "metadata": {},
     "outputs": [
      {
       "output_type": "stream",
       "stream": "stdout",
       "text": [
        "All gone!\n",
        "Add this!\n"
       ]
      }
     ],
     "prompt_number": 53
    },
    {
     "cell_type": "markdown",
     "metadata": {},
     "source": [
      "When things go wrong when using files and you get errors, the writing side of things can go wrong.  Using the **with** command ensures the file will be properly closed."
     ]
    },
    {
     "cell_type": "code",
     "collapsed": false,
     "input": [
      "    with open('some.log', 'a') as f:\n",
      "        f.write('\\n[Tue Jan 27 14:42:08.130038 2015] [mpm_winnt:notice] [pid 8996:tid 296] AH00418: Parent: Created child process 5636')"
     ],
     "language": "python",
     "metadata": {},
     "outputs": [],
     "prompt_number": 54
    },
    {
     "cell_type": "code",
     "collapsed": false,
     "input": [
      "print open('some.log').read()"
     ],
     "language": "python",
     "metadata": {},
     "outputs": [
      {
       "output_type": "stream",
       "stream": "stdout",
       "text": [
        "[Tue Jan 27 14:42:08.107986 2015] [ssl:warn] [pid 8996:tid 296] AH01873: Init: Session Cache is not configured [hint: SSLSessionCache]\n",
        "[Tue Jan 27 14:42:08.109990 2015] [mpm_winnt:notice] [pid 8996:tid 296] AH00455: Apache/2.4.10 (Win64) OpenSSL/1.0.1j configured -- resuming normal operations\n",
        "[Tue Jan 27 14:42:08.110993 2015] [mpm_winnt:notice] [pid 8996:tid 296] AH00456: Server built: Dec  2 2014 08:38:58\n",
        "[Tue Jan 27 14:42:08.110993 2015] [mpm_winnt:notice] [pid 8996:tid 296] AH80000: Distributed by: The Apache Haus\n",
        "[Tue Jan 27 14:42:08.111995 2015] [mpm_winnt:notice] [pid 8996:tid 296] AH80001: Compiled with: Visual Studio 2008\n",
        "[Tue Jan 27 14:42:08.111995 2015] [core:notice] [pid 8996:tid 296] AH00094: Command line: 'httpd -d U:/Data/httpd-2.4.10-x64-r2/Apache24'\n",
        "[Tue Jan 27 14:42:08.130038 2015] [mpm_winnt:notice] [pid 8996:tid 296] AH00418: Parent: Created child process 5636\n",
        "[Tue Jan 27 14:42:08.130038 2015] [mpm_winnt:notice] [pid 8996:tid 296] AH00418: Parent: Created child process 5636\n",
        "[Tue Jan 27 14:42:08.130038 2015] [mpm_winnt:notice] [pid 8996:tid 296] AH00418: Parent: Created child process 5636\n"
       ]
      }
     ],
     "prompt_number": 55
    },
    {
     "cell_type": "code",
     "collapsed": false,
     "input": [],
     "language": "python",
     "metadata": {},
     "outputs": []
    }
   ],
   "metadata": {}
  }
 ]
}