{
 "metadata": {
  "name": "",
  "signature": "sha256:5bbe7a2ef8a77cb497fb58d325fbf326c0a2be0d56b9e34e8ffce6cf69cfd144"
 },
 "nbformat": 3,
 "nbformat_minor": 0,
 "worksheets": [
  {
   "cells": [
    {
     "cell_type": "markdown",
     "metadata": {},
     "source": [
      "# Loops and Control Structures\n",
      "\n",
      "## If\n",
      "The basic syntax of the if statetment looks like:\n",
      "\n",
      "    if <condition>:\n",
      "        <statements>\n",
      "    elif:\n",
      "        <statements>\n",
      "    else:\n",
      "        <statements>\n",
      "\n",
      "Notice the colons ending the lines and the indent that follows on the next lines.  When Python sees a colon it expects indetned code on the next line.  As long as we continue with the indents we are executing statements controlled by the if condition.\n",
      "\n",
      "**Note on indents: ** It's best practise to use 4 spaces for indents in Python though scripts will still work as long as indents and colons are consistently matched.  Developers often will set up their IDE to change tabs into 4 characters to avoid potential conflicts that can arise between the tab character and spaces when they are mixed.\n",
      "\n",
      "A basic example of an if being:"
     ]
    },
    {
     "cell_type": "code",
     "collapsed": false,
     "input": [
      "    x = 100\n",
      "    if x > 99:\n",
      "        print \"cool\"\n",
      "        print \"worked\"\n",
      "    else:\n",
      "        print \"rubbish\""
     ],
     "language": "python",
     "metadata": {},
     "outputs": [
      {
       "output_type": "stream",
       "stream": "stdout",
       "text": [
        "cool\n",
        "wor\n"
       ]
      }
     ],
     "prompt_number": 3
    },
    {
     "cell_type": "code",
     "collapsed": false,
     "input": [
      "    x = 10\n",
      "    if x > 99:\n",
      "      print \"cool\"\n",
      "      print \"worked\"\n",
      "    else:\n",
      "      print \"rubbish\""
     ],
     "language": "python",
     "metadata": {},
     "outputs": [
      {
       "output_type": "stream",
       "stream": "stdout",
       "text": [
        "rubbish\n"
       ]
      }
     ],
     "prompt_number": 2
    },
    {
     "cell_type": "markdown",
     "metadata": {},
     "source": [
      "Note: Here I used only 2 space indents but it will work as python only expects a consistent indent.  It is recommended to use 4 spaces in scripts but you can get away with less if working at a command prompt...\n",
      "\n",
      "In python when you test values for truth, certain things will return False such as 0, '' (empty string), None (the NoneType object) or any other empty object.  So"
     ]
    },
    {
     "cell_type": "code",
     "collapsed": false,
     "input": [
      "    y = 0\n",
      "    if y: # should be False\n",
      "        print 'y is True'\n",
      "    else:\n",
      "        print 'y is False'"
     ],
     "language": "python",
     "metadata": {},
     "outputs": [
      {
       "output_type": "stream",
       "stream": "stdout",
       "text": [
        "y is False\n"
       ]
      }
     ],
     "prompt_number": 3
    },
    {
     "cell_type": "code",
     "collapsed": false,
     "input": [
      "    y = None # special keyword creates a NoneType object.\n",
      "    type(y) # \n",
      "    if y:  # False again\n",
      "        print 'y is True'\n",
      "    else:\n",
      "        print 'y is False'"
     ],
     "language": "python",
     "metadata": {},
     "outputs": [
      {
       "output_type": "stream",
       "stream": "stdout",
       "text": [
        "y is False\n"
       ]
      }
     ],
     "prompt_number": 4
    },
    {
     "cell_type": "code",
     "collapsed": false,
     "input": [
      "    y=''    \n",
      "    if y:  # and False again.\n",
      "        print 'y is True'\n",
      "    else:\n",
      "        print 'y is False'"
     ],
     "language": "python",
     "metadata": {},
     "outputs": [
      {
       "output_type": "stream",
       "stream": "stdout",
       "text": [
        "y is False\n"
       ]
      }
     ],
     "prompt_number": 5
    },
    {
     "cell_type": "markdown",
     "metadata": {},
     "source": [
      "Any positive value will return True:"
     ]
    },
    {
     "cell_type": "code",
     "collapsed": false,
     "input": [
      "    y=167   \n",
      "    if y:  # True\n",
      "        print 'y is True'\n",
      "    else:\n",
      "        print 'y is False'"
     ],
     "language": "python",
     "metadata": {},
     "outputs": [
      {
       "output_type": "stream",
       "stream": "stdout",
       "text": [
        "y is True\n"
       ]
      }
     ],
     "prompt_number": 6
    },
    {
     "cell_type": "code",
     "collapsed": false,
     "input": [
      "    y='this better be true' \n",
      "    if y:  # and True again.\n",
      "        print 'y is True'\n",
      "    else:\n",
      "        print 'y is False'"
     ],
     "language": "python",
     "metadata": {},
     "outputs": [
      {
       "output_type": "stream",
       "stream": "stdout",
       "text": [
        "y is True\n"
       ]
      }
     ],
     "prompt_number": 7
    },
    {
     "cell_type": "markdown",
     "metadata": {},
     "source": [
      "None is a common object used in programming.  You have already seen methods that changed a list but returned the NoneType object.  Remember lists..."
     ]
    },
    {
     "cell_type": "code",
     "collapsed": false,
     "input": [
      "    l = [1,2,1,3,5,2]\n",
      "    whats_this = l.sort() # sort sorts the list, l, ut returns a NoneType object.\n",
      "    type(whats_this) "
     ],
     "language": "python",
     "metadata": {},
     "outputs": [
      {
       "metadata": {},
       "output_type": "pyout",
       "prompt_number": 8,
       "text": [
        "NoneType"
       ]
      }
     ],
     "prompt_number": 8
    },
    {
     "cell_type": "markdown",
     "metadata": {},
     "source": [
      "To test for None..."
     ]
    },
    {
     "cell_type": "code",
     "collapsed": false,
     "input": [
      "    if whats_this is None:  # don't use == to test for None.  It can have strange results.\n",
      "        print \"It's None\"\n"
     ],
     "language": "python",
     "metadata": {},
     "outputs": [
      {
       "output_type": "stream",
       "stream": "stdout",
       "text": [
        "It's None\n"
       ]
      }
     ],
     "prompt_number": 10
    },
    {
     "cell_type": "code",
     "collapsed": false,
     "input": [
      "    if whats_this is not None:\n",
      "        print \"It's not None\""
     ],
     "language": "python",
     "metadata": {},
     "outputs": [],
     "prompt_number": 11
    },
    {
     "cell_type": "markdown",
     "metadata": {},
     "source": [
      "##Loops\n",
      "\n",
      "### While Loops\n",
      "While loops continue to do something as long as a condition is True."
     ]
    },
    {
     "cell_type": "code",
     "collapsed": false,
     "input": [
      "    x = 1\n",
      "    while x < 10:\n",
      "        print x\n",
      "        x = x + 1"
     ],
     "language": "python",
     "metadata": {},
     "outputs": [
      {
       "output_type": "stream",
       "stream": "stdout",
       "text": [
        "1\n",
        "2\n",
        "3\n",
        "4\n",
        "5\n",
        "6\n",
        "7\n",
        "8\n",
        "9\n"
       ]
      }
     ],
     "prompt_number": 12
    },
    {
     "cell_type": "markdown",
     "metadata": {},
     "source": [
      "Again notice the colons and following indented code.\n",
      "\n",
      "###For Loops\n",
      "For loops are much more common as they are easier to read generally.\n"
     ]
    },
    {
     "cell_type": "code",
     "collapsed": false,
     "input": [
      "    mylist = [1,2,3,7,8,9,3] # a list of integers\n",
      "    for thing in mylist: # iterate over the list putting each list item into the thing variable and test the value.\n",
      "        if thing > 5 and thing < 9:\n",
      "            print \"%s is >5 and <9\" % thing\n",
      "        elif thing <=5:\n",
      "            print \"%s is <=5\" % thing \n",
      "        elif thing >=9:\n",
      "            print \"%s is >=9\" % thing\n",
      "    else:\n",
      "        print 'done' # the else executes after the for loop.  But is seldom used.  While statements can also have else."
     ],
     "language": "python",
     "metadata": {},
     "outputs": [
      {
       "output_type": "stream",
       "stream": "stdout",
       "text": [
        "1 is <=5\n",
        "2 is <=5\n",
        "3 is <=5\n",
        "7 is >5 and <9\n",
        "8 is >5 and <9\n",
        "9 is >=9\n",
        "3 is <=5\n",
        "done\n"
       ]
      }
     ],
     "prompt_number": 13
    },
    {
     "cell_type": "markdown",
     "metadata": {},
     "source": [
      "For cases where you don't want to do anything when looping, you use *continue* and when you need to stop a loop you use *break*..."
     ]
    },
    {
     "cell_type": "code",
     "collapsed": false,
     "input": [
      "        for thing in mylist:\n",
      "            if thing > 5 and thing < 9:\n",
      "                    continue # do nothing go to next iteration\n",
      "            elif thing <=5:\n",
      "                print \"%s is <=5\" % thing # print something\n",
      "            elif thing >=9:\n",
      "                print 'done'\n",
      "                break # loop will stop\n"
     ],
     "language": "python",
     "metadata": {},
     "outputs": [
      {
       "output_type": "stream",
       "stream": "stdout",
       "text": [
        "1 is <=5\n",
        "2 is <=5\n",
        "3 is <=5\n",
        "done\n"
       ]
      }
     ],
     "prompt_number": 18
    },
    {
     "cell_type": "markdown",
     "metadata": {},
     "source": [
      "It is a common practise to loop over a set number of iterations.  For this we can use range() which creates a list of numbers...\n"
     ]
    },
    {
     "cell_type": "code",
     "collapsed": false,
     "input": [
      "    list_of_nums = range(10)\n",
      "    list_of_nums # output list"
     ],
     "language": "python",
     "metadata": {},
     "outputs": [
      {
       "metadata": {},
       "output_type": "pyout",
       "prompt_number": 19,
       "text": [
        "[0, 1, 2, 3, 4, 5, 6, 7, 8, 9]"
       ]
      }
     ],
     "prompt_number": 19
    },
    {
     "cell_type": "markdown",
     "metadata": {},
     "source": [
      "You can then loop over the range.  If you need to loop over a large list of numbers use xrange(), it is a more efficient way as it doesn't return the full list at once like range() does.  range() and xrange() don't need to be consecutive numbers but can have different start, end points and step size.  More details here -> [https://docs.python.org/2/library/functions.html#xrange](https://docs.python.org/2/library/functions.html#xrange)\n",
      "\n",
      "##List Comprehensions\n",
      "Creating a new list from another list a common feature in python and so there is a quick way called a list comprehension..."
     ]
    },
    {
     "cell_type": "code",
     "collapsed": false,
     "input": [
      "    l1 = [1,2,3,4,5,6,7,8,9]\n",
      "    list_comp = [x for x in l1 if x%2 == 0] # get the even numbers from l1.\n",
      "    list_comp # see the result"
     ],
     "language": "python",
     "metadata": {},
     "outputs": [
      {
       "metadata": {},
       "output_type": "pyout",
       "prompt_number": 20,
       "text": [
        "[2, 4, 6, 8]"
       ]
      }
     ],
     "prompt_number": 20
    },
    {
     "cell_type": "code",
     "collapsed": false,
     "input": [],
     "language": "python",
     "metadata": {},
     "outputs": []
    }
   ],
   "metadata": {}
  }
 ]
}